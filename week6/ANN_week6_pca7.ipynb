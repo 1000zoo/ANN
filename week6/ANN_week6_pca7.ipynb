{
  "nbformat": 4,
  "nbformat_minor": 0,
  "metadata": {
    "colab": {
      "name": "ANN_week6_pca7.ipynb",
      "provenance": [],
      "collapsed_sections": []
    },
    "kernelspec": {
      "name": "python3",
      "display_name": "Python 3"
    },
    "language_info": {
      "name": "python"
    }
  },
  "cells": [
    {
      "cell_type": "markdown",
      "source": [
        "#Winequality Red\n",
        "https://www.kaggle.com/datasets/uciml/red-wine-quality-cortez-et-al-2009"
      ],
      "metadata": {
        "id": "B-G_fL18MOx0"
      }
    },
    {
      "cell_type": "markdown",
      "source": [
        "data csv 파일 불러오기"
      ],
      "metadata": {
        "id": "Nv9FwxKOiXpS"
      }
    },
    {
      "cell_type": "code",
      "execution_count": 186,
      "metadata": {
        "id": "PNPrzkK0hrXO"
      },
      "outputs": [],
      "source": [
        "import pandas as pd\n",
        "import numpy as np\n",
        "data = pd.read_csv(\"/content/drive/MyDrive/ColabNotebooks/week6/winequality-red.csv\")"
      ]
    },
    {
      "cell_type": "markdown",
      "source": [
        "###1. 모델 디자인\n",
        "   - 3 hidden layers, neuron = 512\n",
        "   - adam Optimizer, MSE loss\n",
        "   - input : 11개 label\n",
        "   - output : 1개 (quality)"
      ],
      "metadata": {
        "id": "1q9sCanJi8JO"
      }
    },
    {
      "cell_type": "code",
      "source": [
        "# from tensorflow.keras import models, layers, optimizers, losses, metrics\n",
        "\n",
        "# model = models.Sequential()\n",
        "# model.add(layers.Dense(512, activation='relu', input_shape=(data.shape[1]-1,)))\n",
        "# model.add(layers.Dense(512, activation='relu'))\n",
        "# model.add(layers.Dense(512, activation='relu'))\n",
        "# model.add(layers.Dense(1))\n",
        "\n",
        "# model.compile(optimizer=optimizers.Adam(learning_rate=0.001),\n",
        "#               loss=losses.MeanSquaredError(),\n",
        "#               metrics=['mae'])"
      ],
      "metadata": {
        "id": "u0k33rINjMhZ"
      },
      "execution_count": 187,
      "outputs": []
    },
    {
      "cell_type": "markdown",
      "source": [
        "**Problem #3 전용**\n",
        "\n",
        "* L1, L2 적용\n",
        "* prediction값의 편향이 심한듯한 느낌\n"
      ],
      "metadata": {
        "id": "10FUTpPF8EBa"
      }
    },
    {
      "cell_type": "code",
      "source": [
        "from tensorflow.keras import models, layers, optimizers, losses, metrics, \\\n",
        "regularizers\n",
        "\n",
        "model = models.Sequential()\n",
        "model.add(layers.Dense(512, kernel_regularizer=regularizers.l1_l2(l1=0.001, l2=0.001),\\\n",
        "                       activation='relu', input_shape=(data.shape[1]-1,)))\n",
        "model.add(layers.Dense(512, kernel_regularizer=regularizers.l1_l2(l1=0.001, l2=0.001),\\\n",
        "                       activation='relu'))\n",
        "model.add(layers.Dense(512, kernel_regularizer=regularizers.l1_l2(l1=0.001, l2=0.001),\\\n",
        "                       activation='relu'))\n",
        "model.add(layers.Dense(1, kernel_regularizer=regularizers.l1_l2(l1=0.001, l2=0.001)))\n",
        "\n",
        "model.compile(optimizer=optimizers.Adam(learning_rate=0.001),\n",
        "              loss=losses.MeanSquaredError(),\n",
        "              metrics=['mae'])"
      ],
      "metadata": {
        "id": "tIFU0klh8A5r"
      },
      "execution_count": 188,
      "outputs": []
    },
    {
      "cell_type": "markdown",
      "source": [
        "###2. 데이터 전처리 (Data preparation)\n",
        "  - train set = 0 ~ 1000\n",
        "  - test set = 1000 ~\n",
        "  - min-max Normalization => 0~1 (MinMaxScaler)"
      ],
      "metadata": {
        "id": "6YFwYoUBqvF0"
      }
    },
    {
      "cell_type": "code",
      "source": [
        "#input data(x_data) 와 out data(y_data) 분리 작업\n",
        "x_data = {}\n",
        "y_data = {}\n",
        "for label in data:\n",
        "  if label != 'quality':\n",
        "    x_data[label] = data[label]\n",
        "  else:\n",
        "    y_data[label] = data[label]\n",
        "\n",
        "x_data = pd.DataFrame(x_data)\n",
        "y_data = pd.DataFrame(y_data)\n",
        "\n",
        "#train data 와 test data 분리 작업\n",
        "x_train, y_train = x_data.loc[:999], y_data.loc[:999]\n",
        "x_test, y_test = x_data.loc[1000:], y_data.loc[1000:]\n",
        "\n",
        "#normalization 작업\n",
        "from sklearn.preprocessing import MinMaxScaler\n",
        "\n",
        "scaler = MinMaxScaler()\n",
        "x_train = scaler.fit_transform(x_train)\n",
        "y_train = scaler.fit_transform(y_train)\n",
        "x_test = scaler.fit_transform(x_test)\n",
        "y_test = scaler.fit_transform(y_test)"
      ],
      "metadata": {
        "id": "LRZZ5rKeq_-y"
      },
      "execution_count": 189,
      "outputs": []
    },
    {
      "cell_type": "markdown",
      "source": [
        "###3. 학습\n",
        "  - validation: 20% hold out CV\n",
        "  - learning with 500 epochs (batch size: default)"
      ],
      "metadata": {
        "id": "TpIGmI1vyrpv"
      }
    },
    {
      "cell_type": "code",
      "source": [
        "from tensorflow.keras.callbacks import EarlyStopping\n",
        "\n",
        "history = model.fit(x_train, y_train, epochs=500, validation_split=0.2).history\n",
        "train_loss, train_mae = history[\"loss\"][-1], history[\"mae\"][-1]\n",
        "val_loss, val_mae = history[\"val_loss\"][-1], history[\"val_mae\"][-1]"
      ],
      "metadata": {
        "id": "Ej2o-lLqy6i2",
        "colab": {
          "base_uri": "https://localhost:8080/"
        },
        "outputId": "5fe9dc05-2615-49bb-feca-c5c54689b311"
      },
      "execution_count": 190,
      "outputs": [
        {
          "output_type": "stream",
          "name": "stdout",
          "text": [
            "25/25 [==============================] - 0s 16ms/step - loss: 0.0893 - mae: 0.1310 - val_loss: 0.1010 - val_mae: 0.1603\n",
            "Epoch 497/500\n",
            "25/25 [==============================] - 0s 16ms/step - loss: 0.0893 - mae: 0.1306 - val_loss: 0.1014 - val_mae: 0.1608\n",
            "Epoch 498/500\n",
            "25/25 [==============================] - 0s 18ms/step - loss: 0.0893 - mae: 0.1309 - val_loss: 0.1011 - val_mae: 0.1601\n",
            "Epoch 499/500\n",
            "25/25 [==============================] - 0s 18ms/step - loss: 0.0893 - mae: 0.1310 - val_loss: 0.1011 - val_mae: 0.1602\n",
            "Epoch 500/500\n",
            "25/25 [==============================] - 0s 17ms/step - loss: 0.0893 - mae: 0.1308 - val_loss: 0.1010 - val_mae: 0.1611\n"
          ]
        }
      ]
    },
    {
      "cell_type": "markdown",
      "source": [
        "###4. 평가\n",
        "  - training, validation, test set 의 최종 MAE\n",
        "  - training, validation, test set 의 MAE learning curve\n",
        "  - Compare the prediction results of the first 10 samples of the test set, with the true targets. "
      ],
      "metadata": {
        "id": "Rt-kFPXg2ImW"
      }
    },
    {
      "cell_type": "code",
      "source": [
        "test_loss, test_mae = model.evaluate(x_test, y_test)"
      ],
      "metadata": {
        "colab": {
          "base_uri": "https://localhost:8080/"
        },
        "id": "7LPLJFfRVMbt",
        "outputId": "f6ee946b-5768-4bde-a767-9e040c1a7399"
      },
      "execution_count": 191,
      "outputs": [
        {
          "output_type": "stream",
          "name": "stdout",
          "text": [
            "19/19 [==============================] - 0s 5ms/step - loss: 0.0936 - mae: 0.1408\n"
          ]
        }
      ]
    },
    {
      "cell_type": "markdown",
      "source": [
        "**Problem** #2 - 1. learning curve"
      ],
      "metadata": {
        "id": "dhssVKoBVTkM"
      }
    },
    {
      "cell_type": "code",
      "source": [
        "import matplotlib.pyplot as plt \n",
        "\n",
        "plt.title(\"Learning Curve\")\n",
        "plt.plot(history[\"mae\"])\n",
        "plt.plot(history[\"val_mae\"])\n",
        "plt.xlabel(\"Epochs\")\n",
        "plt.ylabel(\"MAE\")\n",
        "plt.legend([\"mae\", \"val_mae\"])\n",
        "plt.show()"
      ],
      "metadata": {
        "colab": {
          "base_uri": "https://localhost:8080/",
          "height": 295
        },
        "id": "1yUcg5BxVTaD",
        "outputId": "01f32908-7007-4034-c7b8-7879a9a747b8"
      },
      "execution_count": 192,
      "outputs": [
        {
          "output_type": "display_data",
          "data": {
            "text/plain": [
              "<Figure size 432x288 with 1 Axes>"
            ],
            "image/png": "[encoded data removed]"
          },
          "metadata": {
            "needs_background": "light"
          }
        }
      ]
    },
    {
      "cell_type": "markdown",
      "source": [
        "**Problem** #2 - 2 "
      ],
      "metadata": {
        "id": "MuibgzW2VOOi"
      }
    },
    {
      "cell_type": "code",
      "source": [
        "print(\"train_mae:\", train_mae)\n",
        "print(\"val_mae:\", val_mae)\n",
        "print(\"test_mae:\", test_mae)"
      ],
      "metadata": {
        "colab": {
          "base_uri": "https://localhost:8080/"
        },
        "id": "p6xRz941EImI",
        "outputId": "5d709006-a874-4851-df92-e55ba5d5c180"
      },
      "execution_count": 193,
      "outputs": [
        {
          "output_type": "stream",
          "name": "stdout",
          "text": [
            "train_mae: 0.1308354288339615\n",
            "val_mae: 0.1610962301492691\n",
            "test_mae: 0.14082340896129608\n"
          ]
        }
      ]
    },
    {
      "cell_type": "markdown",
      "source": [
        "**Problem** #2 - 3 "
      ],
      "metadata": {
        "id": "2jwISqZEcpLY"
      }
    },
    {
      "cell_type": "code",
      "source": [
        "predictions = model.predict(x_test)[:10]\n",
        "print(\"predictions:\\n\", predictions.reshape((len(predictions), )))\n",
        "answer = y_test[:10]\n",
        "print(\"answer:\\n\", answer.reshape((len(answer), )))\n",
        "compare = abs(answer - predictions)\n",
        "print(\"compare:\\n\", compare.reshape((len(compare), )))"
      ],
      "metadata": {
        "colab": {
          "base_uri": "https://localhost:8080/"
        },
        "id": "dq1-cmxacs43",
        "outputId": "4f8617a5-f307-4b4b-e38c-022896b10b77"
      },
      "execution_count": 194,
      "outputs": [
        {
          "output_type": "stream",
          "name": "stdout",
          "text": [
            "predictions:\n",
            " [0.5045189 0.5045189 0.5045189 0.5045189 0.5045189 0.5045189 0.5045189\n",
            " 0.5045189 0.5045189 0.5045189]\n",
            "answer:\n",
            " [0.8 0.8 0.8 0.8 0.4 0.8 0.8 0.8 0.8 0.4]\n",
            "compare:\n",
            " [0.29548107 0.29548107 0.29548107 0.29548107 0.10451893 0.29548107\n",
            " 0.29548107 0.29548107 0.29548107 0.10451893]\n"
          ]
        }
      ]
    }
  ]
}