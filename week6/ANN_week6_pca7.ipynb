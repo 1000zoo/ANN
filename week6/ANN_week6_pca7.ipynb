{
  "nbformat": 4,
  "nbformat_minor": 0,
  "metadata": {
    "colab": {
      "name": "ANN_week6_pca7.ipynb",
      "provenance": [],
      "collapsed_sections": []
    },
    "kernelspec": {
      "name": "python3",
      "display_name": "Python 3"
    },
    "language_info": {
      "name": "python"
    }
  },
  "cells": [
    {
      "cell_type": "markdown",
      "source": [
        "#Winequality Red\n",
        "https://www.kaggle.com/datasets/uciml/red-wine-quality-cortez-et-al-2009"
      ],
      "metadata": {
        "id": "B-G_fL18MOx0"
      }
    },
    {
      "cell_type": "markdown",
      "source": [
        "data csv 파일 불러오기"
      ],
      "metadata": {
        "id": "Nv9FwxKOiXpS"
      }
    },
    {
      "cell_type": "code",
      "execution_count": null,
      "metadata": {
        "id": "PNPrzkK0hrXO"
      },
      "outputs": [],
      "source": [
        "import pandas as pd\n",
        "import numpy as np\n",
        "data = pd.read_csv(\"/content/drive/MyDrive/ColabNotebooks/week6/winequality-red.csv\")"
      ]
    },
    {
      "cell_type": "markdown",
      "source": [
        "1. 모델 디자인\n",
        "   - 3 hidden layers, neuron = 512\n",
        "   - adam Optimizer, MSE loss\n",
        "   - input : 11개 label\n",
        "   - output : 1개 (quality)"
      ],
      "metadata": {
        "id": "1q9sCanJi8JO"
      }
    },
    {
      "cell_type": "code",
      "source": [
        "# from tensorflow.keras import models, layers, optimizers, losses, metrics\n",
        "\n",
        "# model = models.Sequential()\n",
        "# model.add(layers.Dense(512, activation='relu', input_shape=(data.shape[1]-1,)))\n",
        "# model.add(layers.Dense(512, activation='relu'))\n",
        "# model.add(layers.Dense(512, activation='relu'))\n",
        "# model.add(layers.Dense(1))\n",
        "\n",
        "# model.compile(optimizer=optimizers.Adam(learning_rate=0.001),\n",
        "#               loss=losses.MeanSquaredError(),\n",
        "#               metrics=['mae'])"
      ],
      "metadata": {
        "id": "u0k33rINjMhZ"
      },
      "execution_count": null,
      "outputs": []
    },
    {
      "cell_type": "markdown",
      "source": [
        "Problem #3 전용\n",
        "\n",
        "L1, L2 적용, 값의 편향이 심한듯한 느낌\n"
      ],
      "metadata": {
        "id": "10FUTpPF8EBa"
      }
    },
    {
      "cell_type": "code",
      "source": [
        "from tensorflow.keras import models, layers, optimizers, losses, metrics, \\\n",
        "regularizers\n",
        "\n",
        "model = models.Sequential()\n",
        "model.add(layers.Dense(512, kernel_regularizer=regularizers.l1_l2(l1=0.001, l2=0.001),\\\n",
        "                       activation='relu', input_shape=(data.shape[1]-1,)))\n",
        "model.add(layers.Dense(512, kernel_regularizer=regularizers.l1_l2(l1=0.001, l2=0.001),\\\n",
        "                       activation='relu'))\n",
        "model.add(layers.Dense(512, kernel_regularizer=regularizers.l1_l2(l1=0.001, l2=0.001),\\\n",
        "                       activation='relu'))\n",
        "model.add(layers.Dense(1))\n",
        "\n",
        "model.compile(optimizer=optimizers.Adam(learning_rate=0.001),\n",
        "              loss=losses.MeanSquaredError(),\n",
        "              metrics=['mae'])"
      ],
      "metadata": {
        "id": "tIFU0klh8A5r"
      },
      "execution_count": null,
      "outputs": []
    },
    {
      "cell_type": "markdown",
      "source": [
        "2. 데이터 전처리 (Data preparation)\n",
        "    - train set = 0~1000\n",
        "    - test set = 1000~\n",
        "    - min-max Normalization => 0~1 (MinMaxScaler)"
      ],
      "metadata": {
        "id": "6YFwYoUBqvF0"
      }
    },
    {
      "cell_type": "code",
      "source": [
        "#input data(x_data) 와 out data(y_data) 분리 작업\n",
        "x_data = {}\n",
        "y_data = {}\n",
        "for label in data:\n",
        "  if label != 'quality':\n",
        "    x_data[label] = data[label]\n",
        "  else:\n",
        "    y_data[label] = data[label]\n",
        "\n",
        "x_data = pd.DataFrame(x_data)\n",
        "y_data = pd.DataFrame(y_data)\n",
        "\n",
        "#train data 와 test data 분리 작업\n",
        "x_train, y_train = x_data.loc[:999], y_data.loc[:999]\n",
        "x_test, y_test = x_data.loc[1000:], y_data.loc[1000:]\n",
        "\n",
        "#normalization 작업\n",
        "from sklearn.preprocessing import MinMaxScaler\n",
        "\n",
        "scaler = MinMaxScaler()\n",
        "x_train = scaler.fit_transform(x_train)\n",
        "y_train = scaler.fit_transform(y_train)\n",
        "x_test = scaler.fit_transform(x_test)\n",
        "y_test = scaler.fit_transform(y_test)"
      ],
      "metadata": {
        "id": "LRZZ5rKeq_-y"
      },
      "execution_count": null,
      "outputs": []
    },
    {
      "cell_type": "markdown",
      "source": [
        "3. 학습\n",
        "    - validation: 20% hold out CV\n",
        "    - learning with 500 epochs (batch size: default)"
      ],
      "metadata": {
        "id": "TpIGmI1vyrpv"
      }
    },
    {
      "cell_type": "code",
      "source": [
        "from tensorflow.keras.callbacks import EarlyStopping\n",
        "\n",
        "history = model.fit(x_train, y_train, epochs=10, validation_split=0.2).history\n",
        "train_loss, train_mae = history[\"loss\"][-1], history[\"mae\"][-1]\n",
        "val_loss, val_mae = history[\"val_loss\"][-1], history[\"val_mae\"][-1]"
      ],
      "metadata": {
        "id": "Ej2o-lLqy6i2",
        "colab": {
          "base_uri": "https://localhost:8080/"
        },
        "outputId": "4392c8d0-b8f5-4067-df96-fe29e9e2274e"
      },
      "execution_count": null,
      "outputs": [
        {
          "output_type": "stream",
          "name": "stdout",
          "text": [
            "Epoch 1/10\n",
            "25/25 [==============================] - 1s 21ms/step - loss: 15.8476 - mae: 0.1580 - val_loss: 10.3941 - val_mae: 0.1511\n",
            "Epoch 2/10\n",
            "25/25 [==============================] - 0s 14ms/step - loss: 6.6993 - mae: 0.1184 - val_loss: 3.4603 - val_mae: 0.1631\n",
            "Epoch 3/10\n",
            "25/25 [==============================] - 0s 16ms/step - loss: 1.7635 - mae: 0.1244 - val_loss: 0.6553 - val_mae: 0.1626\n",
            "Epoch 4/10\n",
            "25/25 [==============================] - 0s 13ms/step - loss: 0.4043 - mae: 0.1285 - val_loss: 0.2362 - val_mae: 0.1625\n",
            "Epoch 5/10\n",
            "25/25 [==============================] - 0s 14ms/step - loss: 0.1657 - mae: 0.1305 - val_loss: 0.1394 - val_mae: 0.1608\n",
            "Epoch 6/10\n",
            "25/25 [==============================] - 0s 14ms/step - loss: 0.1140 - mae: 0.1310 - val_loss: 0.1155 - val_mae: 0.1584\n",
            "Epoch 7/10\n",
            "25/25 [==============================] - 0s 14ms/step - loss: 0.1004 - mae: 0.1310 - val_loss: 0.1083 - val_mae: 0.1582\n",
            "Epoch 8/10\n",
            "25/25 [==============================] - 0s 13ms/step - loss: 0.0953 - mae: 0.1308 - val_loss: 0.1048 - val_mae: 0.1600\n",
            "Epoch 9/10\n",
            "25/25 [==============================] - 0s 15ms/step - loss: 0.0929 - mae: 0.1309 - val_loss: 0.1015 - val_mae: 0.1563\n",
            "Epoch 10/10\n",
            "25/25 [==============================] - 0s 14ms/step - loss: 0.0918 - mae: 0.1316 - val_loss: 0.1019 - val_mae: 0.1587\n"
          ]
        }
      ]
    },
    {
      "cell_type": "markdown",
      "source": [
        "4. 평가\n",
        "    - training, validation, test set 의 최종 MAE\n",
        "    - training, validation, test set 의 MAE learning curve\n",
        "    - Compare the prediction results of the first 10 samples of the test set, with the true targets. "
      ],
      "metadata": {
        "id": "Rt-kFPXg2ImW"
      }
    },
    {
      "cell_type": "code",
      "source": [
        "test_loss, test_mae = model.evaluate(x_test, y_test)"
      ],
      "metadata": {
        "colab": {
          "base_uri": "https://localhost:8080/"
        },
        "id": "7LPLJFfRVMbt",
        "outputId": "c2a24ae1-147b-4d18-c644-360f597d3b69"
      },
      "execution_count": null,
      "outputs": [
        {
          "output_type": "stream",
          "name": "stdout",
          "text": [
            "19/19 [==============================] - 0s 4ms/step - loss: 0.0949 - mae: 0.1384\n"
          ]
        }
      ]
    },
    {
      "cell_type": "markdown",
      "source": [
        "Problem #2 - 1. learning curve"
      ],
      "metadata": {
        "id": "dhssVKoBVTkM"
      }
    },
    {
      "cell_type": "code",
      "source": [
        "import matplotlib.pyplot as plt \n",
        "\n",
        "plt.subplot(2,1,1)\n",
        "plt.title(\"Learning Curve\")\n",
        "plt.plot(history[\"loss\"])\n",
        "plt.plot(history[\"val_loss\"])\n",
        "plt.xlabel(\"Epochs\")\n",
        "plt.ylabel(\"Loss\")\n",
        "plt.legend([\"loss\", \"val_loss\"])\n",
        "plt.subplot(2,1,2)\n",
        "plt.plot(history[\"mae\"])\n",
        "plt.plot(history[\"val_mae\"])\n",
        "plt.xlabel(\"Epochs\")\n",
        "plt.ylabel(\"MAE\")\n",
        "plt.legend([\"mae\", \"val_mae\"])\n",
        "plt.show()"
      ],
      "metadata": {
        "colab": {
          "base_uri": "https://localhost:8080/",
          "height": 295
        },
        "id": "1yUcg5BxVTaD",
        "outputId": "3e2ecbab-5ad0-4ecd-f5df-b2966ebfaa0f"
      },
      "execution_count": null,
      "outputs": [
        {
          "output_type": "display_data",
          "data": {
            "text/plain": [
              "<Figure size 432x288 with 2 Axes>"
            ],
            "image/png": "[encoded data removed]"
          },
          "metadata": {
            "needs_background": "light"
          }
        }
      ]
    },
    {
      "cell_type": "markdown",
      "source": [
        "Problem #2 - 2 "
      ],
      "metadata": {
        "id": "MuibgzW2VOOi"
      }
    },
    {
      "cell_type": "code",
      "source": [
        "print(\"train_mae:\", train_mae)\n",
        "print(\"val_mae:\", val_mae)\n",
        "print(\"test_mae:\", test_mae)"
      ],
      "metadata": {
        "colab": {
          "base_uri": "https://localhost:8080/"
        },
        "id": "p6xRz941EImI",
        "outputId": "e32b15e1-15d9-4a0a-e06e-8127d395372d"
      },
      "execution_count": null,
      "outputs": [
        {
          "output_type": "stream",
          "name": "stdout",
          "text": [
            "train_mae: 0.1315925568342209\n",
            "val_mae: 0.15866591036319733\n",
            "test_mae: 0.13836874067783356\n"
          ]
        }
      ]
    },
    {
      "cell_type": "markdown",
      "source": [
        "Problem #2 - 3 "
      ],
      "metadata": {
        "id": "2jwISqZEcpLY"
      }
    },
    {
      "cell_type": "code",
      "source": [
        "predictions = model.predict(x_test)[:10]\n",
        "print(\"predictions:\\n\", predictions.reshape((len(predictions), )))\n",
        "answer = y_test[:10]\n",
        "print(\"answer:\\n\", answer.reshape((len(answer), )))\n",
        "compare = abs(answer - predictions)\n",
        "print(\"compare:\\n\", compare.reshape((len(compare), )))"
      ],
      "metadata": {
        "colab": {
          "base_uri": "https://localhost:8080/"
        },
        "id": "dq1-cmxacs43",
        "outputId": "edcc961b-77b3-46c1-c7fe-db9ebb426399"
      },
      "execution_count": null,
      "outputs": [
        {
          "output_type": "stream",
          "name": "stdout",
          "text": [
            "predictions:\n",
            " [0.5166705 0.5166705 0.5166705 0.5166706 0.5166705 0.5166706 0.5166705\n",
            " 0.5166705 0.5166705 0.5166705]\n",
            "answer:\n",
            " [0.8 0.8 0.8 0.8 0.4 0.8 0.8 0.8 0.8 0.4]\n",
            "compare:\n",
            " [0.28332947 0.28332947 0.28332947 0.28332942 0.11667053 0.28332942\n",
            " 0.28332947 0.28332947 0.28332947 0.11667053]\n"
          ]
        }
      ]
    },
    {
      "cell_type": "markdown",
      "source": [
        ""
      ],
      "metadata": {
        "id": "EV3cemkV6Fzl"
      }
    }
  ]
}