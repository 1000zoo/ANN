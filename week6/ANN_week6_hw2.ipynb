{
  "nbformat": 4,
  "nbformat_minor": 0,
  "metadata": {
    "colab": {
      "name": "ANN_week6_hw2.ipynb",
      "provenance": [],
      "collapsed_sections": []
    },
    "kernelspec": {
      "name": "python3",
      "display_name": "Python 3"
    },
    "language_info": {
      "name": "python"
    }
  },
  "cells": [
    {
      "cell_type": "markdown",
      "source": [
        "# ***Breast Cancer Wisconsin Dataset***\n",
        "https://archive.ics.uci.edu/ml/datasets/Breast+Cancer+Wisconsin+%28Diagnostic%29\n",
        "\n",
        "# Dataset\n",
        "---\n",
        "### Classification problem\n",
        "* 10 input variables\n",
        "* 1 **binary** output variable (benign or malignant)\n",
        "\n",
        "### Originally hosted by UCI\n",
        "\n",
        "### 569 data samples\n",
        "* Use the first 100 samples as **test set**\n",
        "* Use the next 100 samples as **validation set**\n",
        "* Use the others as **training set**\n",
        "---\n",
        "# Data PreParation\n",
        "* Remove the rows with missing values \"***?***\"\n",
        "* Load it in the python\n",
        "* Drop the first column : ID\n",
        "* ***Normalize the input variables***\n",
        "* Set the output variable\n",
        "  - Malignant: 1 / benign: 0\n",
        "* Data split: train, test, validation set\n",
        "---\n",
        "# Basic model\n",
        "* Model Structure\n",
        "  - 9 inputs\n",
        "  - 10 hidden neurons / Relu\n",
        "  - 1 output neuron / signoid\n",
        "*Compile and learning condition\n",
        "  - Optimizer = rmsprop\n",
        "  - Loss function = binary crossentropy\n",
        "  - Epochs = 200\n",
        "  - Batch_size = 10\n",
        "  - EarlyStopping with patience = 2"
      ],
      "metadata": {
        "id": "CqnfS4xIL_da"
      }
    },
    {
      "cell_type": "markdown",
      "source": [
        "###1. **Import models & 데이터 불러오기**"
      ],
      "metadata": {
        "id": "IlvPMTaKQu9A"
      }
    },
    {
      "cell_type": "code",
      "execution_count": null,
      "metadata": {
        "id": "q6KVVa09Ky1_"
      },
      "outputs": [],
      "source": [
        "import pandas as pd\n",
        "import numpy as np\n",
        "from tensorflow.keras import models, layers, optimizers, losses, metrics\n",
        "from tensorflow.keras.callbacks import EarlyStopping\n",
        "\n",
        "DATA_PATH = \"/content/drive/MyDrive/ColabNotebooks/week6/breast-cancer-wisconsin.data\"\n",
        "cancer_origin_data = pd.read_csv(DATA_PATH, delimiter=\",\")"
      ]
    },
    {
      "cell_type": "markdown",
      "source": [
        "###2. **Data preparation**\n",
        "  - Test : 0 ~ 100, Val : 100 ~ 200, Train : 200~\n",
        "  - input : 10 -> 9 (Drop first column / all columns except first one)\n",
        "  - output : 1 (Maybe first column)\n",
        "  - Normalize ?\n",
        "  - ???"
      ],
      "metadata": {
        "id": "oGie3P5cVlmZ"
      }
    },
    {
      "cell_type": "code",
      "source": [
        "## Drop \"?\" rows\n",
        "for label in cancer_origin_data:\n",
        "  for index, data in enumerate(cancer_origin_data.loc[:, label]):\n",
        "      if data == \"?\":\n",
        "        cancer_origin_data = cancer_origin_data.drop(index)\n",
        "## Drop first column\n",
        "cancer_data = cancer_origin_data.drop('1000025', axis=1)\n",
        "input_data = cancer_data.drop('5', axis=1)\n",
        "## Data split\n",
        "## Input(x) and Output(y)\n",
        "x_test = cancer_data.loc[:99].drop('5', axis=1)\n",
        "y_test = cancer_data.loc[:99].loc[:, '5']\n",
        "x_val = cancer_data.loc[100:199].drop('5', axis=1)\n",
        "y_val = cancer_data.loc[100:199].loc[:, '5']\n",
        "x_train = cancer_data.loc[200:].drop('5', axis=1)\n",
        "y_train = cancer_data.loc[200:].loc[:, '5']"
      ],
      "metadata": {
        "id": "wxLrQBy7Vlbe"
      },
      "execution_count": 111,
      "outputs": []
    },
    {
      "cell_type": "markdown",
      "source": [
        "###3. **모델 디자인**\n",
        "  - 9 inputs\n",
        "  - 10 hidden neurons / Relu\n",
        "  - 1 output neuron / sigmoid\n",
        "  - compile and learning condition\n",
        "    - Optimizer = rmsprop\n",
        "    - Loss function = binary crossentropy\n",
        "    - Epochs, Batch_size, EarlyStopping patience = 200, 10, 2"
      ],
      "metadata": {
        "id": "Wovnnv1ZpQW_"
      }
    },
    {
      "cell_type": "code",
      "source": [
        "model = models.Sequential()\n",
        "model.add(layers.Dense(10, activation='relu', input_shape=(9, )))\n",
        "model.add(layers.Dense(1, activation='sigmoid'))\n",
        "\n",
        "model.compile(optimizer=optimizers.RMSprop(learning_rate=0.001),\n",
        "              loss=losses.binary_crossentropy,\n",
        "              metrics=[metrics.binary_accuracy])\n",
        "\n",
        "model.fit(x_train, y_train, epochs=200, batch_size=10,\n",
        "          validation_data=(x_val, y_val),\n",
        "          callbacks=[EarlyStopping(monitor='val_loss', patience=2)])"
      ],
      "metadata": {
        "id": "jK3OffHxpQPK"
      },
      "execution_count": null,
      "outputs": []
    }
  ]
}