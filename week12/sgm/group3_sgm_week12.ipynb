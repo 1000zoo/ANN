{
  "nbformat": 4,
  "nbformat_minor": 0,
  "metadata": {
    "colab": {
      "name": "\bGroup3_12주차.ipynb",
      "provenance": [],
      "collapsed_sections": []
    },
    "kernelspec": {
      "name": "python3",
      "display_name": "Python 3"
    },
    "language_info": {
      "name": "python"
    }
  },
  "cells": [
    {
      "cell_type": "code",
      "source": [
        "import numpy as np\n",
        "import tensorflow as tf\n",
        "from tensorflow.keras.models import Model, Sequential\n",
        "from tensorflow.keras.layers import SimpleRNN, GRU, LSTM, Activation, Dense\n",
        "from tensorflow.keras.optimizers import Adam\n",
        "from tensorflow.keras.utils import to_categorical"
      ],
      "metadata": {
        "id": "H33awhmgU2_p"
      },
      "execution_count": null,
      "outputs": []
    },
    {
      "cell_type": "markdown",
      "source": [
        "# ANN"
      ],
      "metadata": {
        "id": "mdEgJi1dTVob"
      }
    },
    {
      "cell_type": "code",
      "execution_count": 47,
      "metadata": {
        "id": "cAf3Z_8HSSRy",
        "colab": {
          "base_uri": "https://localhost:8080/"
        },
        "outputId": "a546ff66-842b-43cc-b2fc-3f7c53f11264"
      },
      "outputs": [
        {
          "output_type": "stream",
          "name": "stdout",
          "text": [
            "Model: \"sequential_42\"\n",
            "_________________________________________________________________\n",
            " Layer (type)                Output Shape              Param #   \n",
            "=================================================================\n",
            " dense_41 (Dense)            (None, 10)                70        \n",
            "                                                                 \n",
            " dense_42 (Dense)            (None, 6)                 66        \n",
            "                                                                 \n",
            "=================================================================\n",
            "Total params: 136\n",
            "Trainable params: 136\n",
            "Non-trainable params: 0\n",
            "_________________________________________________________________\n",
            "\tstr: iolilll\n",
            "\tstr: iolilll\n",
            "\tstr: ihlilll\n",
            "\tstr: i hilll\n",
            "\tstr: e helll\n",
            "\tstr: e helll\n",
            "\tstr: e helll\n",
            "\tstr: e helll\n",
            "\tstr: e helll\n",
            "\tstr: i hilll\n",
            "\tstr: i hilll\n",
            "\tstr: i hilll\n",
            "\tstr: i hilll\n",
            "\tstr: e helll\n",
            "\tstr: e helll\n",
            "\tstr: i hilll\n",
            "\tstr: i hilll\n",
            "\tstr: i hilll\n",
            "\tstr: i hilll\n",
            "\tstr: e helll\n",
            "\tstr: e helll\n",
            "\tstr: i hilll\n",
            "\tstr: i hilll\n",
            "\tstr: i hilll\n",
            "\tstr: i hilll\n",
            "\tstr: i hilll\n",
            "\tstr: i hilll\n",
            "\tstr: i hilll\n",
            "\tstr: i hilll\n",
            "\tstr: i hilll\n"
          ]
        }
      ],
      "source": [
        "sample = \"hi hello\"\n",
        "idx2char = list(set(sample))\n",
        "char2idx = {c: i for i, c in enumerate(idx2char)}\n",
        "\n",
        "dic_size = len(char2idx)\n",
        "hidden_size = len(char2idx)\n",
        "num_classes = len(char2idx)\n",
        "batch_size = 1\n",
        "sequence_length = len(sample) - 1\n",
        "lr = 0.01\n",
        "\n",
        "sample_idx = [char2idx[c] for c in sample]\n",
        "x_data = [sample_idx[:-1]]\n",
        "y_data = [sample_idx[1:]]\n",
        "\n",
        "inputs = to_categorical(x_data, num_classes)\n",
        "outputs = to_categorical(y_data, num_classes)\n",
        "inputs = np.squeeze(inputs)\n",
        "outputs = np.squeeze(outputs)\n",
        "\n",
        "def build_model():\n",
        "    model = Sequential()\n",
        "    model.add(Dense(10, activation='tanh', input_shape=(dic_size,)))\n",
        "    model.add(Dense(num_classes, activation='softmax'))\n",
        "    model.summary()\n",
        "    model.compile(optimizer=Adam(learning_rate=lr), loss='categorical_crossentropy', metrics=['accuracy'])\n",
        "    return model\n",
        "\n",
        "def print_string(predictions):\n",
        "    result_str = \"\"\n",
        "    for i, prediction in enumerate(predictions):\n",
        "        result_str += idx2char[np.argmax(prediction)]\n",
        "    print(\"\\tstr:\", \"\".join(result_str))\n",
        "\n",
        "model = build_model()\n",
        "for i in range(30):\n",
        "    model.fit(inputs, outputs, epochs=5, verbose=0)\n",
        "    predictions = model.predict(inputs)\n",
        "    print_string(predictions)"
      ]
    },
    {
      "cell_type": "markdown",
      "source": [
        "# RNN"
      ],
      "metadata": {
        "id": "Y2k3uAZeTZAQ"
      }
    },
    {
      "cell_type": "code",
      "source": [
        "sample = \"hi hello\"\n",
        "idx2char = list(set(sample))\n",
        "char2idx = {c: i for i, c in enumerate(idx2char)}\n",
        "\n",
        "dic_size = len(char2idx)\n",
        "hidden_size = len(char2idx)\n",
        "num_classes = len(char2idx)\n",
        "batch_size = 1\n",
        "sequence_length = len(sample) - 1\n",
        "lr = 0.01\n",
        "\n",
        "sample_idx = [char2idx[c] for c in sample]\n",
        "x_data = [sample_idx[:-1]]\n",
        "y_data = [sample_idx[1:]]\n",
        "\n",
        "inputs = to_categorical(x_data, num_classes)\n",
        "outputs = to_categorical(y_data, num_classes)\n",
        "\n",
        "def build_model():\n",
        "    model = Sequential()\n",
        "    model.add(SimpleRNN(32, activation='tanh', input_shape=(sequence_length, dic_size,), return_sequences=True))\n",
        "    model.add(Dense(num_classes, activation='softmax'))\n",
        "    model.summary()\n",
        "    model.compile(optimizer=Adam(learning_rate=lr), loss='categorical_crossentropy', metrics=['accuracy'])\n",
        "    return model\n",
        "\n",
        "def print_string(predictions):\n",
        "    for i, prediction in enumerate(predictions):\n",
        "        result_str = [idx2char[c] for c in np.argmax(prediction, axis=1)]\n",
        "        print(\"\\tstr:\", \"\".join(result_str))\n",
        "\n",
        "model = build_model()\n",
        "for i in range(30):\n",
        "    model.fit(inputs, outputs, epochs=5, verbose=0)\n",
        "    predictions = model.predict(inputs)\n",
        "    print_string(predictions)\n",
        "\n"
      ],
      "metadata": {
        "id": "PRCb8vJ1TaY1",
        "colab": {
          "base_uri": "https://localhost:8080/"
        },
        "outputId": "1fb49602-a6a0-4181-a07e-b34244b0b3e8"
      },
      "execution_count": 45,
      "outputs": [
        {
          "output_type": "stream",
          "name": "stdout",
          "text": [
            "Model: \"sequential_41\"\n",
            "_________________________________________________________________\n",
            " Layer (type)                Output Shape              Param #   \n",
            "=================================================================\n",
            " simple_rnn_33 (SimpleRNN)   (None, 7, 32)             1248      \n",
            "                                                                 \n",
            " dense_40 (Dense)            (None, 7, 6)              198       \n",
            "                                                                 \n",
            "=================================================================\n",
            "Total params: 1,446\n",
            "Trainable params: 1,446\n",
            "Non-trainable params: 0\n",
            "_________________________________________________________________\n",
            "\tstr: o hello\n",
            "\tstr: i hello\n",
            "\tstr: i hello\n",
            "\tstr: i hello\n",
            "\tstr: i hello\n",
            "\tstr: i hello\n",
            "\tstr: i hello\n",
            "\tstr: i hello\n",
            "\tstr: i hello\n",
            "\tstr: i hello\n",
            "\tstr: i hello\n",
            "\tstr: i hello\n",
            "\tstr: i hello\n",
            "\tstr: i hello\n",
            "\tstr: i hello\n",
            "\tstr: i hello\n",
            "\tstr: i hello\n",
            "\tstr: i hello\n",
            "\tstr: i hello\n",
            "\tstr: i hello\n",
            "\tstr: i hello\n",
            "\tstr: i hello\n",
            "\tstr: i hello\n",
            "\tstr: i hello\n",
            "\tstr: i hello\n",
            "\tstr: i hello\n",
            "\tstr: i hello\n",
            "\tstr: i hello\n",
            "\tstr: i hello\n",
            "\tstr: i hello\n"
          ]
        }
      ]
    }
  ]
}