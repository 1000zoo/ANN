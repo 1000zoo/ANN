{
  "nbformat": 4,
  "nbformat_minor": 0,
  "metadata": {
    "colab": {
      "name": "ANN_week4_FC_ex.ipynb",
      "provenance": [],
      "collapsed_sections": []
    },
    "kernelspec": {
      "name": "python3",
      "display_name": "Python 3"
    },
    "language_info": {
      "name": "python"
    }
  },
  "cells": [
    {
      "cell_type": "markdown",
      "source": [
        "flip class (EP 6-2)\n",
        "2022-03-25"
      ],
      "metadata": {
        "id": "taDe3JGUFKxJ"
      }
    },
    {
      "cell_type": "code",
      "execution_count": null,
      "metadata": {
        "id": "5fmQ2SF_8rxt"
      },
      "outputs": [],
      "source": [
        "from tensorflow.keras.datasets import imdb\n",
        "import numpy as np"
      ]
    },
    {
      "cell_type": "markdown",
      "source": [
        "데이터 로딩"
      ],
      "metadata": {
        "id": "FcylOHV68621"
      }
    },
    {
      "cell_type": "code",
      "source": [
        "(train_data, train_labels), (test_data, test_labels) = imdb.load_data(num_words=10000)\n",
        "print(train_data)\n",
        "print(train_labels)"
      ],
      "metadata": {
        "id": "oB64Xmhm9A5g",
        "colab": {
          "base_uri": "https://localhost:8080/"
        },
        "outputId": "84be17d0-7fc7-4aa8-a02e-d39ba2d6d99a"
      },
      "execution_count": null,
      "outputs": [
        {
          "output_type": "stream",
          "name": "stdout",
          "text": [
            "[list([1, 14, 22, 16, 43, 530, 973, 1622, 1385, 65, 458, 4468, 66, 3941, 4, 173, 36, 256, 5, 25, 100, 43, 838, 112, 50, 670, 2, 9, 35, 480, 284, 5, 150, 4, 172, 112, 167, 2, 336, 385, 39, 4, 172, 4536, 1111, 17, 546, 38, 13, 447, 4, 192, 50, 16, 6, 147, 2025, 19, 14, 22, 4, 1920, 4613, 469, 4, 22, 71, 87, 12, 16, 43, 530, 38, 76, 15, 13, 1247, 4, 22, 17, 515, 17, 12, 16, 626, 18, 2, 5, 62, 386, 12, 8, 316, 8, 106, 5, 4, 2223, 5244, 16, 480, 66, 3785, 33, 4, 130, 12, 16, 38, 619, 5, 25, 124, 51, 36, 135, 48, 25, 1415, 33, 6, 22, 12, 215, 28, 77, 52, 5, 14, 407, 16, 82, 2, 8, 4, 107, 117, 5952, 15, 256, 4, 2, 7, 3766, 5, 723, 36, 71, 43, 530, 476, 26, 400, 317, 46, 7, 4, 2, 1029, 13, 104, 88, 4, 381, 15, 297, 98, 32, 2071, 56, 26, 141, 6, 194, 7486, 18, 4, 226, 22, 21, 134, 476, 26, 480, 5, 144, 30, 5535, 18, 51, 36, 28, 224, 92, 25, 104, 4, 226, 65, 16, 38, 1334, 88, 12, 16, 283, 5, 16, 4472, 113, 103, 32, 15, 16, 5345, 19, 178, 32])\n",
            " list([1, 194, 1153, 194, 8255, 78, 228, 5, 6, 1463, 4369, 5012, 134, 26, 4, 715, 8, 118, 1634, 14, 394, 20, 13, 119, 954, 189, 102, 5, 207, 110, 3103, 21, 14, 69, 188, 8, 30, 23, 7, 4, 249, 126, 93, 4, 114, 9, 2300, 1523, 5, 647, 4, 116, 9, 35, 8163, 4, 229, 9, 340, 1322, 4, 118, 9, 4, 130, 4901, 19, 4, 1002, 5, 89, 29, 952, 46, 37, 4, 455, 9, 45, 43, 38, 1543, 1905, 398, 4, 1649, 26, 6853, 5, 163, 11, 3215, 2, 4, 1153, 9, 194, 775, 7, 8255, 2, 349, 2637, 148, 605, 2, 8003, 15, 123, 125, 68, 2, 6853, 15, 349, 165, 4362, 98, 5, 4, 228, 9, 43, 2, 1157, 15, 299, 120, 5, 120, 174, 11, 220, 175, 136, 50, 9, 4373, 228, 8255, 5, 2, 656, 245, 2350, 5, 4, 9837, 131, 152, 491, 18, 2, 32, 7464, 1212, 14, 9, 6, 371, 78, 22, 625, 64, 1382, 9, 8, 168, 145, 23, 4, 1690, 15, 16, 4, 1355, 5, 28, 6, 52, 154, 462, 33, 89, 78, 285, 16, 145, 95])\n",
            " list([1, 14, 47, 8, 30, 31, 7, 4, 249, 108, 7, 4, 5974, 54, 61, 369, 13, 71, 149, 14, 22, 112, 4, 2401, 311, 12, 16, 3711, 33, 75, 43, 1829, 296, 4, 86, 320, 35, 534, 19, 263, 4821, 1301, 4, 1873, 33, 89, 78, 12, 66, 16, 4, 360, 7, 4, 58, 316, 334, 11, 4, 1716, 43, 645, 662, 8, 257, 85, 1200, 42, 1228, 2578, 83, 68, 3912, 15, 36, 165, 1539, 278, 36, 69, 2, 780, 8, 106, 14, 6905, 1338, 18, 6, 22, 12, 215, 28, 610, 40, 6, 87, 326, 23, 2300, 21, 23, 22, 12, 272, 40, 57, 31, 11, 4, 22, 47, 6, 2307, 51, 9, 170, 23, 595, 116, 595, 1352, 13, 191, 79, 638, 89, 2, 14, 9, 8, 106, 607, 624, 35, 534, 6, 227, 7, 129, 113])\n",
            " ...\n",
            " list([1, 11, 6, 230, 245, 6401, 9, 6, 1225, 446, 2, 45, 2174, 84, 8322, 4007, 21, 4, 912, 84, 2, 325, 725, 134, 2, 1715, 84, 5, 36, 28, 57, 1099, 21, 8, 140, 8, 703, 5, 2, 84, 56, 18, 1644, 14, 9, 31, 7, 4, 9406, 1209, 2295, 2, 1008, 18, 6, 20, 207, 110, 563, 12, 8, 2901, 2, 8, 97, 6, 20, 53, 4767, 74, 4, 460, 364, 1273, 29, 270, 11, 960, 108, 45, 40, 29, 2961, 395, 11, 6, 4065, 500, 7, 2, 89, 364, 70, 29, 140, 4, 64, 4780, 11, 4, 2678, 26, 178, 4, 529, 443, 2, 5, 27, 710, 117, 2, 8123, 165, 47, 84, 37, 131, 818, 14, 595, 10, 10, 61, 1242, 1209, 10, 10, 288, 2260, 1702, 34, 2901, 2, 4, 65, 496, 4, 231, 7, 790, 5, 6, 320, 234, 2766, 234, 1119, 1574, 7, 496, 4, 139, 929, 2901, 2, 7750, 5, 4241, 18, 4, 8497, 2, 250, 11, 1818, 7561, 4, 4217, 5408, 747, 1115, 372, 1890, 1006, 541, 9303, 7, 4, 59, 2, 4, 3586, 2])\n",
            " list([1, 1446, 7079, 69, 72, 3305, 13, 610, 930, 8, 12, 582, 23, 5, 16, 484, 685, 54, 349, 11, 4120, 2959, 45, 58, 1466, 13, 197, 12, 16, 43, 23, 2, 5, 62, 30, 145, 402, 11, 4131, 51, 575, 32, 61, 369, 71, 66, 770, 12, 1054, 75, 100, 2198, 8, 4, 105, 37, 69, 147, 712, 75, 3543, 44, 257, 390, 5, 69, 263, 514, 105, 50, 286, 1814, 23, 4, 123, 13, 161, 40, 5, 421, 4, 116, 16, 897, 13, 2, 40, 319, 5872, 112, 6700, 11, 4803, 121, 25, 70, 3468, 4, 719, 3798, 13, 18, 31, 62, 40, 8, 7200, 4, 2, 7, 14, 123, 5, 942, 25, 8, 721, 12, 145, 5, 202, 12, 160, 580, 202, 12, 6, 52, 58, 2, 92, 401, 728, 12, 39, 14, 251, 8, 15, 251, 5, 2, 12, 38, 84, 80, 124, 12, 9, 23])\n",
            " list([1, 17, 6, 194, 337, 7, 4, 204, 22, 45, 254, 8, 106, 14, 123, 4, 2, 270, 2, 5, 2, 2, 732, 2098, 101, 405, 39, 14, 1034, 4, 1310, 9, 115, 50, 305, 12, 47, 4, 168, 5, 235, 7, 38, 111, 699, 102, 7, 4, 4039, 9245, 9, 24, 6, 78, 1099, 17, 2345, 2, 21, 27, 9685, 6139, 5, 2, 1603, 92, 1183, 4, 1310, 7, 4, 204, 42, 97, 90, 35, 221, 109, 29, 127, 27, 118, 8, 97, 12, 157, 21, 6789, 2, 9, 6, 66, 78, 1099, 4, 631, 1191, 5, 2642, 272, 191, 1070, 6, 7585, 8, 2197, 2, 2, 544, 5, 383, 1271, 848, 1468, 2, 497, 2, 8, 1597, 8778, 2, 21, 60, 27, 239, 9, 43, 8368, 209, 405, 10, 10, 12, 764, 40, 4, 248, 20, 12, 16, 5, 174, 1791, 72, 7, 51, 6, 1739, 22, 4, 204, 131, 9])]\n",
            "[1 0 0 ... 0 1 0]\n"
          ]
        }
      ]
    },
    {
      "cell_type": "markdown",
      "source": [
        "단어와 정수index 를 매핑한 딕셔너리 +\n",
        "정수index 와 단어를 매핑하도록 reverse\n",
        "\n",
        "PCA #6 Prob1"
      ],
      "metadata": {
        "id": "jFnr652q9Jn1"
      }
    },
    {
      "cell_type": "code",
      "source": [
        "word_index = imdb.get_word_index()\n",
        "# print(type(word_index))\n",
        "# print((word_index.items()))\n",
        "reverse_word_index = dict([(value, key) for (key, value) in word_index.items()])\n",
        "# print(reverse_word_index)\n",
        "decoded_review = \" \".join([reverse_word_index.get(i - 3, '?') for i in train_data[131]])\n",
        "print(decoded_review)"
      ],
      "metadata": {
        "id": "YOd_YJre9Yxm",
        "colab": {
          "base_uri": "https://localhost:8080/"
        },
        "outputId": "121fd491-5234-437a-b177-a6a67d7b0649"
      },
      "execution_count": null,
      "outputs": [
        {
          "output_type": "stream",
          "name": "stdout",
          "text": [
            "? i'm the sort of person who went down to the local library and read books on ? difference engine whilst my ? were playing football etc so if there is any such thing as a target audience for this film then i guess i'd probably be included in that br br maybe i just need to watch it again a previous reviewer mentioned not to watch this film whilst being tired maybe that was my mistake br br i tried my best to enjoy this film and there are aspects of it that i do like but overall i found it amateurish and quite plodding br br being somewhat of a self ? computer nerd i just can't help but pick up on the exact time frame when the movie was actually made and how the employed graphics reflect that time i e 1997 having played games of the era c f mind ? to ? one example this film cannot escape that 16 bit colour low ? ? explosion of that time now thankfully this has somewhat ? in more recent years in the ? world at least in favour of actual game play br br having to resort to watching this movie via a german ? satellite channel as i don't think it's ever been aired on uk ? tv well not recently anyway i was mildly amused to see the end credits note ? god dog had 4 people working on it's design maybe it's mean spirited of me to be amused by this given that ten years have ? since the movie was made nevertheless the end result makes movie graphics from the eighties look good by comparison br br but as for the main story i agree that the format isn't the best idea like others i agree that ? deserves a film without the sci fi angle and a more straightforward ? approach would perhaps be better suited to covering the life story of this remarkable lady br br there are fundamental mistakes that ? my enjoyment of this movie first of all the underlying idea that somehow lost real world information from the past can be accurately ? through some sort of ? via ? based intelligent agents seems somehow ludicrous br br also the theme running through the movie that a ? device can indeed predict the ? of all things through the course of time e g the winds is now known not to be the case br br ok so the ? may have held this view but the 20th century works of ? proving that no ? system can be complete ? works on the limits of ? not to mention chaos theory and quantum ? have all completely ? these ideas which seem central to how the modern day ? ? is supposed to work br br finally the ? of the mouse in the air to mean programming is also just plain wrong as previously mentioned br br this film maybe could have been ok but at least some technical and scientific ? would have given the film some much needed credit in the believability stakes br br i won't forget the film though as like ? it is clearly a unique work but with too many fatal mistakes for me to truly enjoy it 3 10 from me\n"
          ]
        }
      ]
    },
    {
      "cell_type": "markdown",
      "source": [
        "Train data 내용 확인"
      ],
      "metadata": {
        "id": "C5tLPyk_gWCB"
      }
    },
    {
      "cell_type": "code",
      "source": [
        "# for data in train_data:\n",
        "#   print(data)\n",
        "print(train_data[131])\n",
        "print(train_data[131][53], train_data[131][26])"
      ],
      "metadata": {
        "colab": {
          "base_uri": "https://localhost:8080/"
        },
        "id": "jXJe8R8CgaPz",
        "outputId": "1cb1e2aa-f6e4-434f-a8e4-8b1b67a8d47b"
      },
      "execution_count": null,
      "outputs": [
        {
          "output_type": "stream",
          "name": "stdout",
          "text": [
            "[1, 146, 4, 432, 7, 415, 37, 435, 180, 8, 4, 719, 3323, 5, 332, 1151, 23, 2, 1474, 7515, 1864, 61, 2, 71, 395, 2319, 525, 38, 48, 50, 9, 101, 141, 155, 17, 6, 2401, 311, 18, 14, 22, 95, 13, 482, 474, 242, 30, 1926, 11, 15, 10, 10, 279, 13, 43, 359, 8, 106, 12, 174, 6, 960, 2215, 1046, 24, 8, 106, 14, 22, 1864, 112, 1458, 279, 15, 16, 61, 1323, 10, 10, 13, 805, 61, 118, 8, 358, 14, 22, 5, 50, 26, 1409, 7, 12, 15, 13, 81, 40, 21, 444, 13, 258, 12, 2342, 5, 179, 7187, 10, 10, 112, 643, 7, 6, 532, 2, 1222, 5155, 13, 43, 191, 339, 21, 1261, 56, 23, 4, 2591, 58, 2122, 54, 4, 20, 16, 165, 93, 5, 89, 4, 5652, 2876, 4589, 15, 58, 13, 963, 5126, 260, 256, 1628, 7, 4, 999, 1148, 1209, 330, 2, 8, 2, 31, 463, 14, 22, 566, 1090, 15, 3248, 227, 3335, 364, 2, 2, 3938, 7, 15, 58, 150, 2670, 14, 47, 643, 2, 11, 53, 1136, 153, 11, 4, 2, 182, 33, 222, 11, 5260, 7, 779, 500, 297, 10, 10, 260, 8, 4713, 8, 149, 14, 20, 2864, 6, 1124, 2, 9529, 1308, 17, 13, 92, 104, 45, 126, 77, 3181, 23, 2285, 2, 248, 73, 24, 1033, 553, 13, 16, 2791, 5184, 8, 67, 4, 130, 898, 854, 2, 558, 912, 69, 470, 84, 780, 23, 45, 1592, 279, 45, 384, 3649, 7, 72, 8, 30, 5184, 34, 14, 348, 15, 747, 153, 28, 2, 237, 4, 20, 16, 93, 2185, 4, 130, 959, 166, 20, 2876, 39, 4, 4277, 168, 52, 34, 2096, 10, 10, 21, 17, 18, 4, 293, 65, 13, 1041, 15, 4, 2718, 218, 4, 118, 326, 40, 409, 13, 1041, 15, 2, 1015, 6, 22, 209, 4, 920, 924, 2651, 5, 6, 53, 5327, 2, 1483, 62, 382, 30, 128, 3941, 8, 6916, 4, 113, 65, 7, 14, 1739, 761, 10, 10, 50, 26, 7664, 2497, 15, 2, 61, 3129, 7, 14, 20, 86, 7, 32, 4, 5029, 326, 15, 820, 416, 147, 182, 1618, 39, 4, 501, 70, 30, 5935, 2, 143, 49, 432, 7, 2, 2864, 2, 448, 1089, 4492, 186, 820, 2761, 10, 10, 82, 4, 756, 620, 143, 4, 20, 15, 6, 2, 2701, 70, 849, 5709, 4, 2, 7, 32, 183, 143, 4, 265, 7, 58, 963, 1331, 4, 4239, 9, 150, 573, 24, 8, 30, 4, 420, 10, 10, 608, 38, 4, 2, 203, 28, 1428, 14, 650, 21, 4, 3646, 1117, 495, 7, 2, 5977, 15, 57, 2, 1510, 70, 30, 601, 2, 495, 23, 4, 4317, 7, 2, 24, 8, 760, 4117, 2604, 5, 6621, 2, 28, 32, 340, 2, 134, 1008, 63, 306, 1375, 8, 89, 4, 682, 251, 2, 2, 9, 424, 8, 157, 10, 10, 417, 4, 2, 7, 4, 2914, 11, 4, 945, 8, 384, 8218, 9, 82, 43, 1044, 355, 17, 2453, 1046, 10, 10, 14, 22, 279, 100, 28, 77, 608, 21, 33, 222, 49, 1759, 5, 3749, 2, 62, 28, 348, 4, 22, 49, 76, 887, 1109, 11, 4, 8212, 9926, 10, 10, 13, 528, 859, 4, 22, 151, 17, 40, 2, 12, 9, 695, 6, 955, 157, 21, 19, 99, 111, 3610, 2497, 18, 72, 8, 371, 358, 12, 342, 158, 39, 72]\n",
            "13 525\n"
          ]
        }
      ]
    },
    {
      "cell_type": "markdown",
      "source": [
        "PCA #6 Prob 2"
      ],
      "metadata": {
        "id": "eBAdyBkXKN0-"
      }
    },
    {
      "cell_type": "code",
      "source": [
        "word_index_of_X = train_data[131][:5]\n",
        "print(word_index_of_X)\n",
        "print([reverse_word_index.get(i-3,'?') for i in word_index_of_X])\n",
        "print(train_data[131][word_index_of_X[1]])\n",
        "print(train_data[131][word_index_of_X[3]])"
      ],
      "metadata": {
        "colab": {
          "base_uri": "https://localhost:8080/"
        },
        "id": "ZIoRvI8PKM6H",
        "outputId": "6e1e24d6-3bf1-47c3-d2f1-d95af7b8c4db"
      },
      "execution_count": null,
      "outputs": [
        {
          "output_type": "stream",
          "name": "stdout",
          "text": [
            "[1, 146, 4, 432, 7]\n",
            "['?', \"i'm\", 'the', 'sort', 'of']\n",
            "256\n",
            "495\n"
          ]
        }
      ]
    },
    {
      "cell_type": "markdown",
      "source": [
        "One-Hot encoding (vectorize)\n",
        "for MNIST"
      ],
      "metadata": {
        "id": "_IA5vbfJCRau"
      }
    },
    {
      "cell_type": "code",
      "source": [
        "def to_one_hot(labels, dimension=10):\n",
        "  results = np.zeros((len(labels), dimension))\n",
        "  for i, label in enumerate(labels):\n",
        "    results[i, label] = 1\n",
        "  return results"
      ],
      "metadata": {
        "id": "8jHqkganCWT-"
      },
      "execution_count": null,
      "outputs": []
    },
    {
      "cell_type": "markdown",
      "source": [
        "vectorize_sequences"
      ],
      "metadata": {
        "id": "QsgsQPcxD-Nb"
      }
    },
    {
      "cell_type": "code",
      "source": [
        "def vectorize_sequences(sequences, dimension=10000):\n",
        "  results = np.zeros((len(sequences), dimension))\n",
        "  for i, sequence in enumerate(sequences):\n",
        "    results[i, sequence] = 1\n",
        "  return results"
      ],
      "metadata": {
        "id": "ix52VgdrD6-r"
      },
      "execution_count": null,
      "outputs": []
    },
    {
      "cell_type": "markdown",
      "source": [
        "useage of vectorize_sequences()"
      ],
      "metadata": {
        "id": "2GyYxnlWEuOl"
      }
    },
    {
      "cell_type": "code",
      "source": [
        "x_train = vectorize_sequences(train_data)\n",
        "x_test = vectorize_sequences(test_data)\n",
        "\n",
        "y_train = np.asarray(train_labels).astype('float32')\n",
        "y_test = np.asarray(test_labels).astype('float32')"
      ],
      "metadata": {
        "id": "NVB-fiZ8ExFI"
      },
      "execution_count": null,
      "outputs": []
    },
    {
      "cell_type": "markdown",
      "source": [
        "Model definition"
      ],
      "metadata": {
        "id": "L31LGvMTFToD"
      }
    },
    {
      "cell_type": "code",
      "source": [
        "from tensorflow.keras import models, layers\n",
        "from tensorflow.keras import optimizers, losses, metrics\n",
        "\n",
        "model = models.Sequential()\n",
        "model.add(layers.Dense(16, activation='relu', input_shape=(10000,)))\n",
        "model.add(layers.Dense(16, activation='relu'))\n",
        "model.add(layers.Dense(1, activation='sigmoid')) # output = 0 or 1\n",
        "\n",
        "model.compile(optimizer=optimizers.RMSprop(learning_rate=0.001),\n",
        "              loss=losses.binary_crossentropy,\n",
        "              metrics=[metrics.binary_accuracy])"
      ],
      "metadata": {
        "id": "NbKzq5VhFXw5"
      },
      "execution_count": null,
      "outputs": []
    },
    {
      "cell_type": "markdown",
      "source": [
        "slide. 13\n",
        "\n",
        "실제 학습"
      ],
      "metadata": {
        "id": "rgDz3J-tGdP_"
      }
    },
    {
      "cell_type": "code",
      "source": [
        "x_val = x_train[:10000]\n",
        "partial_x_train = x_train[10000:]\n",
        "y_val = y_train[:10000]\n",
        "partial_y_train = y_train[10000:]\n",
        "\n",
        "history = model.fit(partial_x_train, partial_y_train,\n",
        "                    epochs=20, batch_size=512,\n",
        "                    validation_data=(x_val, y_val))\n",
        "\n",
        "results = model.evaluate(x_test, y_test)\n",
        "print(results)\n",
        "model.predict(x_test)"
      ],
      "metadata": {
        "id": "tqZnEBXTGc4S",
        "colab": {
          "base_uri": "https://localhost:8080/"
        },
        "outputId": "105d55f2-782e-43f6-d5dd-9ebd96bfb783"
      },
      "execution_count": null,
      "outputs": [
        {
          "output_type": "stream",
          "name": "stdout",
          "text": [
            "Epoch 1/20\n",
            "30/30 [==============================] - 2s 49ms/step - loss: 0.5358 - binary_accuracy: 0.7647 - val_loss: 0.4135 - val_binary_accuracy: 0.8540\n",
            "Epoch 2/20\n",
            "30/30 [==============================] - 1s 38ms/step - loss: 0.3186 - binary_accuracy: 0.9032 - val_loss: 0.3124 - val_binary_accuracy: 0.8871\n",
            "Epoch 3/20\n",
            "30/30 [==============================] - 1s 37ms/step - loss: 0.2280 - binary_accuracy: 0.9257 - val_loss: 0.2853 - val_binary_accuracy: 0.8866\n",
            "Epoch 4/20\n",
            "30/30 [==============================] - 1s 36ms/step - loss: 0.1751 - binary_accuracy: 0.9447 - val_loss: 0.3119 - val_binary_accuracy: 0.8773\n",
            "Epoch 5/20\n",
            "30/30 [==============================] - 1s 37ms/step - loss: 0.1438 - binary_accuracy: 0.9557 - val_loss: 0.3434 - val_binary_accuracy: 0.8690\n",
            "Epoch 6/20\n",
            "30/30 [==============================] - 1s 40ms/step - loss: 0.1193 - binary_accuracy: 0.9635 - val_loss: 0.2943 - val_binary_accuracy: 0.8848\n",
            "Epoch 7/20\n",
            "30/30 [==============================] - 1s 37ms/step - loss: 0.0955 - binary_accuracy: 0.9717 - val_loss: 0.3109 - val_binary_accuracy: 0.8836\n",
            "Epoch 8/20\n",
            "30/30 [==============================] - 1s 38ms/step - loss: 0.0799 - binary_accuracy: 0.9779 - val_loss: 0.3297 - val_binary_accuracy: 0.8814\n",
            "Epoch 9/20\n",
            "30/30 [==============================] - 1s 37ms/step - loss: 0.0621 - binary_accuracy: 0.9843 - val_loss: 0.3548 - val_binary_accuracy: 0.8791\n",
            "Epoch 10/20\n",
            "30/30 [==============================] - 1s 37ms/step - loss: 0.0508 - binary_accuracy: 0.9887 - val_loss: 0.3892 - val_binary_accuracy: 0.8744\n",
            "Epoch 11/20\n",
            "30/30 [==============================] - 1s 49ms/step - loss: 0.0412 - binary_accuracy: 0.9906 - val_loss: 0.4058 - val_binary_accuracy: 0.8754\n",
            "Epoch 12/20\n",
            "30/30 [==============================] - 1s 38ms/step - loss: 0.0313 - binary_accuracy: 0.9936 - val_loss: 0.4285 - val_binary_accuracy: 0.8766\n",
            "Epoch 13/20\n",
            "30/30 [==============================] - 1s 37ms/step - loss: 0.0240 - binary_accuracy: 0.9958 - val_loss: 0.4762 - val_binary_accuracy: 0.8705\n",
            "Epoch 14/20\n",
            "30/30 [==============================] - 1s 37ms/step - loss: 0.0197 - binary_accuracy: 0.9969 - val_loss: 0.4920 - val_binary_accuracy: 0.8717\n",
            "Epoch 15/20\n",
            "30/30 [==============================] - 1s 47ms/step - loss: 0.0129 - binary_accuracy: 0.9989 - val_loss: 0.5636 - val_binary_accuracy: 0.8658\n",
            "Epoch 16/20\n",
            "30/30 [==============================] - 1s 47ms/step - loss: 0.0136 - binary_accuracy: 0.9977 - val_loss: 0.5672 - val_binary_accuracy: 0.8698\n",
            "Epoch 17/20\n",
            "30/30 [==============================] - 1s 39ms/step - loss: 0.0058 - binary_accuracy: 0.9998 - val_loss: 0.5989 - val_binary_accuracy: 0.8698\n",
            "Epoch 18/20\n",
            "30/30 [==============================] - 1s 37ms/step - loss: 0.0098 - binary_accuracy: 0.9982 - val_loss: 0.6268 - val_binary_accuracy: 0.8694\n",
            "Epoch 19/20\n",
            "30/30 [==============================] - 1s 37ms/step - loss: 0.0032 - binary_accuracy: 0.9999 - val_loss: 0.6596 - val_binary_accuracy: 0.8691\n",
            "Epoch 20/20\n",
            "30/30 [==============================] - 1s 37ms/step - loss: 0.0054 - binary_accuracy: 0.9990 - val_loss: 0.6949 - val_binary_accuracy: 0.8680\n",
            "782/782 [==============================] - 2s 2ms/step - loss: 0.7597 - binary_accuracy: 0.8536\n",
            "[0.759676456451416, 0.853600025177002]\n"
          ]
        },
        {
          "output_type": "execute_result",
          "data": {
            "text/plain": [
              "array([[2.3705959e-03],\n",
              "       [9.9999934e-01],\n",
              "       [8.8963091e-01],\n",
              "       ...,\n",
              "       [6.8286061e-04],\n",
              "       [5.2028596e-03],\n",
              "       [7.9742026e-01]], dtype=float32)"
            ]
          },
          "metadata": {},
          "execution_count": 104
        }
      ]
    },
    {
      "cell_type": "markdown",
      "source": [
        "multiple?"
      ],
      "metadata": {
        "id": "-3hbcg-UJE-B"
      }
    },
    {
      "cell_type": "code",
      "source": [
        "from tensorflow.keras.datasets import reuters\n",
        "\n",
        "(train_data, train_labesl), (test_data, test_labels) = reuters.load_data(num_words=10000)\n",
        "\n",
        "x_train = vectorize_sequences(train_data)\n",
        "x_test = vectorize_sequences(test_data)\n",
        "\n",
        "from tensorflow.keras.utils import to_categorical\n",
        "one_hot_train_labels = to_categorical(train_labels)\n",
        "one_hot_test_labels = to_categorical(test_labels)"
      ],
      "metadata": {
        "id": "SwkosbRDJHol"
      },
      "execution_count": null,
      "outputs": []
    },
    {
      "cell_type": "markdown",
      "source": [
        "model"
      ],
      "metadata": {
        "id": "Qoig_cakJpgS"
      }
    },
    {
      "cell_type": "code",
      "source": [
        "from tensorflow.keras import models, layers\n",
        "from tensorflow.keras.callbacks import EarlyStopping\n",
        "model = models.Sequential()\n",
        "model.add(layers.Dense(64, activation='relu', input_shape=(10000,)))\n",
        "model.add(layers.Dense(64, activation='relu'))\n",
        "model.add(layers.Dense(46, activation='softmax'))\n",
        "model.compile(optimizer='rmsprop', loss='categorical_crossentropy',\n",
        "              metrics=['accuracy'])"
      ],
      "metadata": {
        "id": "zURGSmEkJrVa"
      },
      "execution_count": null,
      "outputs": []
    },
    {
      "cell_type": "markdown",
      "source": [
        "실제 학습"
      ],
      "metadata": {
        "id": "AyJ3lvs3KWxZ"
      }
    },
    {
      "cell_type": "code",
      "source": [
        "# x_val = x_train[:10000]\n",
        "# partial_x_train = x_train[10000:]\n",
        "# y_val = one_hot_train_labels[:10000]\n",
        "# partial_y_train = one_hot_train_labels[10000:]\n",
        "\n",
        "# history = model.fit(partial_x_train, partial_y_train,\n",
        "#                     epochs=20, batch_size=512,\n",
        "#                     validation_data=(x_val, y_val),\n",
        "#                     callbacks=[EarlyStopping(monitor='val_loss', patience=1)])\n",
        "\n",
        "# results = model.evaluate(x_test, one_hot_test_labels)\n",
        "# print(results)"
      ],
      "metadata": {
        "id": "auKAcCk2KfLB"
      },
      "execution_count": null,
      "outputs": []
    },
    {
      "cell_type": "markdown",
      "source": [
        "Comparing with the random baseline"
      ],
      "metadata": {
        "id": "vaa5A98QQQKh"
      }
    },
    {
      "cell_type": "code",
      "source": [
        "import copy\n",
        "test_labels_copy = copy.copy(test_labels)\n",
        "np.random.shuffle(test_labels_copy)\n",
        "hits_array = np.array(test_labels) == np.array(test_labels_copy)\n",
        "accuracy = float(np.sum(hits_array)) / len(test_labels)\n",
        "print(accuracy)\n",
        "\n",
        "results = model.evaluate(x_test, one_hot_test_labels)\n",
        "print(results)"
      ],
      "metadata": {
        "id": "2c8GEJecQTC3",
        "colab": {
          "base_uri": "https://localhost:8080/"
        },
        "outputId": "a10c14c8-4373-46d9-8faf-1b877e4d7ea9"
      },
      "execution_count": null,
      "outputs": [
        {
          "output_type": "stream",
          "name": "stdout",
          "text": [
            "0.182546749777382\n",
            "71/71 [==============================] - 0s 3ms/step - loss: 3.8342 - accuracy: 0.0125\n",
            "[3.834212303161621, 0.012466607615351677]\n"
          ]
        }
      ]
    },
    {
      "cell_type": "markdown",
      "source": [
        "prediction"
      ],
      "metadata": {
        "id": "wO4Fom0vQ4y1"
      }
    },
    {
      "cell_type": "code",
      "source": [
        "predictions = model.predict(x_test)\n",
        "print(predictions)\n",
        "print(predictions[131])"
      ],
      "metadata": {
        "id": "CV_JTCtCQ6LX",
        "colab": {
          "base_uri": "https://localhost:8080/"
        },
        "outputId": "b05dcebb-c773-4ebc-9077-2eb17bd3cecb"
      },
      "execution_count": null,
      "outputs": [
        {
          "output_type": "stream",
          "name": "stdout",
          "text": [
            "[[0.01982643 0.02082737 0.02378967 ... 0.02101765 0.02325624 0.0238867 ]\n",
            " [0.01586189 0.01806939 0.02189526 ... 0.01891955 0.02864642 0.02139173]\n",
            " [0.01876013 0.01965798 0.02503995 ... 0.01989857 0.02270202 0.02217202]\n",
            " ...\n",
            " [0.02149346 0.02220994 0.02294303 ... 0.02284205 0.02230521 0.0217622 ]\n",
            " [0.01846733 0.02247059 0.02096078 ... 0.0197849  0.02197768 0.02124557]\n",
            " [0.0185342  0.02056142 0.02202497 ... 0.01983151 0.02510734 0.02222323]]\n",
            "[0.02174652 0.02159332 0.02265235 0.02218236 0.02186201 0.02122335\n",
            " 0.02148798 0.02113483 0.02184281 0.02206325 0.02103264 0.02134297\n",
            " 0.02223257 0.02219741 0.02155732 0.02153651 0.02228102 0.02183988\n",
            " 0.02172447 0.02104424 0.02149319 0.02190262 0.02194788 0.02118128\n",
            " 0.02186505 0.02209815 0.02207518 0.0212336  0.02175779 0.02121704\n",
            " 0.02091951 0.02187008 0.0214637  0.02196855 0.02253908 0.02115246\n",
            " 0.02166519 0.02164785 0.02166298 0.0216235  0.02184265 0.02164876\n",
            " 0.02250387 0.02210421 0.02187583 0.0221622 ]\n"
          ]
        }
      ]
    },
    {
      "cell_type": "markdown",
      "source": [
        "NN의 결과 확인"
      ],
      "metadata": {
        "id": "Tm2VPdFKrGX8"
      }
    },
    {
      "cell_type": "code",
      "source": [
        "import matplotlib.pyplot as plt\n",
        "\n",
        "def plot_loss(h, title=\"loss\"):\n",
        "  plt.plot(h.history['loss'])\n",
        "  plt.plot(h.history['val_loss'])\n",
        "  plt.title(title)\n",
        "  plt.ylabel('Loss')\n",
        "  plt.xlabel('Epoch')\n",
        "  plt.legend(['Training', 'Validation'], loc=0)\n",
        "\n",
        "plot_loss(history)\n",
        "predictions = model.predict(x_test)\n",
        "print(predictions[131])\n",
        "print(type(predictions[131]))"
      ],
      "metadata": {
        "colab": {
          "base_uri": "https://localhost:8080/",
          "height": 451
        },
        "id": "X-M6_4iVrJGb",
        "outputId": "774473e4-e6d6-4e35-f023-d2006d678358"
      },
      "execution_count": null,
      "outputs": [
        {
          "output_type": "stream",
          "name": "stdout",
          "text": [
            "[0.02174652 0.02159332 0.02265235 0.02218236 0.02186201 0.02122335\n",
            " 0.02148798 0.02113483 0.02184281 0.02206325 0.02103264 0.02134297\n",
            " 0.02223257 0.02219741 0.02155732 0.02153651 0.02228102 0.02183988\n",
            " 0.02172447 0.02104424 0.02149319 0.02190262 0.02194788 0.02118128\n",
            " 0.02186505 0.02209815 0.02207518 0.0212336  0.02175779 0.02121704\n",
            " 0.02091951 0.02187008 0.0214637  0.02196855 0.02253908 0.02115246\n",
            " 0.02166519 0.02164785 0.02166298 0.0216235  0.02184265 0.02164876\n",
            " 0.02250387 0.02210421 0.02187583 0.0221622 ]\n",
            "<class 'numpy.ndarray'>\n"
          ]
        },
        {
          "output_type": "display_data",
          "data": {
            "text/plain": [
              "<Figure size 432x288 with 1 Axes>"
            ],
            "image/png": "[encoded data removed]"
          },
          "metadata": {
            "needs_background": "light"
          }
        }
      ]
    }
  ]
}