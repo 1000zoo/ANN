{
  "nbformat": 4,
  "nbformat_minor": 0,
  "metadata": {
    "colab": {
      "name": "ANN_week6_hw2_E2.ipynb",
      "provenance": [],
      "collapsed_sections": []
    },
    "kernelspec": {
      "name": "python3",
      "display_name": "Python 3"
    },
    "language_info": {
      "name": "python"
    }
  },
  "cells": [
    {
      "cell_type": "markdown",
      "source": [
        "#Extra Question 2 전용 코드\n",
        "\n",
        "- Hidden layer 제거 후,\n",
        "- weight 와 bias 확인"
      ],
      "metadata": {
        "id": "YCmrh6YvvHSZ"
      }
    },
    {
      "cell_type": "code",
      "execution_count": null,
      "metadata": {
        "id": "q6KVVa09Ky1_"
      },
      "outputs": [],
      "source": [
        "import pandas as pd\n",
        "import numpy as np\n",
        "from tensorflow.keras import models, layers, optimizers, losses, metrics\n",
        "from tensorflow.keras.callbacks import EarlyStopping\n",
        "from sklearn.preprocessing import MinMaxScaler\n",
        "\n",
        "DATA_PATH = \"/content/drive/MyDrive/ColabNotebooks/week6/breast-cancer-wisconsin.data\"\n",
        "cancer_origin_data = pd.read_csv(DATA_PATH, delimiter=\",\")\n",
        "cancer_origin_data.columns = [\"0\",\"1\",\"2\",\"3\",\"4\",\"5\",\"6\",\"7\",\"8\",\"9\",\"10\"]"
      ]
    },
    {
      "cell_type": "code",
      "source": [
        "## Drop \"?\" rows\n",
        "for label in cancer_origin_data:\n",
        "  for index, data in enumerate(cancer_origin_data.loc[:, label]):\n",
        "      if data == \"?\":\n",
        "        cancer_origin_data = cancer_origin_data.drop(index)\n",
        "# index 재조정\n",
        "cancer_origin_data.index = range(0,len(cancer_origin_data))\n",
        "# output binary 로 변경\n",
        "for index, data in enumerate(cancer_origin_data['10']):\n",
        "  if data == 2:\n",
        "    cancer_origin_data['10'][index] = 0\n",
        "  elif data == 4:\n",
        "    cancer_origin_data['10'][index] = 1\n",
        "# normalization 후 첫번째 열 제거\n",
        "normalization = MinMaxScaler()\n",
        "norm_data = normalization.fit_transform(cancer_origin_data)\n",
        "input_and_output = np.delete(norm_data, 0, axis=1)\n",
        "# input (x), output split (y)\n",
        "x_data = input_and_output[:, 0:9]\n",
        "y_data = input_and_output[:, 9]\n",
        "# train, val, test split\n",
        "# cf) .loc[a:b] => a부터b까지 / [a:b] => a부터b-1까지\n",
        "x_test = x_data[:100, :]\n",
        "y_test = y_data[:100]\n",
        "x_val = x_data[100:200, :]\n",
        "y_val = y_data[100:200]\n",
        "x_train = x_data[200:, :]\n",
        "y_train = y_data[200:]"
      ],
      "metadata": {
        "id": "wxLrQBy7Vlbe"
      },
      "execution_count": null,
      "outputs": []
    },
    {
      "cell_type": "markdown",
      "source": [
        "### Extra Question2.\n",
        "- 우선 hidden layer 제거"
      ],
      "metadata": {
        "id": "Wovnnv1ZpQW_"
      }
    },
    {
      "cell_type": "code",
      "source": [
        "model = models.Sequential()\n",
        "model.add(layers.Dense(1, activation='sigmoid', input_shape=(9, )))\n",
        "\n",
        "model.compile(optimizer=optimizers.RMSprop(learning_rate=0.001),\n",
        "              loss=losses.binary_crossentropy,\n",
        "              metrics=[metrics.binary_accuracy])"
      ],
      "metadata": {
        "id": "jK3OffHxpQPK"
      },
      "execution_count": null,
      "outputs": []
    },
    {
      "cell_type": "code",
      "source": [
        "model.fit(x_train, y_train, epochs=200, batch_size=10,\n",
        "          validation_data=(x_val, y_val),\n",
        "          callbacks=[EarlyStopping(monitor='val_loss', patience=2)])\n",
        "\n",
        "test_loss, test_acc = model.evaluate(x_test, y_test)\n",
        "print(\"test_loss: \", test_loss, \"test_acc: \", test_acc)"
      ],
      "metadata": {
        "id": "g65O5fDUH1yQ"
      },
      "execution_count": null,
      "outputs": []
    },
    {
      "cell_type": "markdown",
      "source": [
        "### Extra Question 2\n",
        "\n",
        "get_weights() 를 이용"
      ],
      "metadata": {
        "id": "WhFX_BNPfgN5"
      }
    },
    {
      "cell_type": "code",
      "source": [
        "w = model.get_weights()[0]\n",
        "b = model.get_weights()[1]\n",
        "\n",
        "print(w)\n",
        "print(b)"
      ],
      "metadata": {
        "id": "o-5Ea-EWfo4j"
      },
      "execution_count": null,
      "outputs": []
    }
  ]
}